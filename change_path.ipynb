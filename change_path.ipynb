{
 "cells": [
  {
   "cell_type": "code",
   "execution_count": 2,
   "metadata": {},
   "outputs": [],
   "source": [
    "images_path = \"/kaggle/input/self-driving-dataset/New folder/IMG\"\n",
    "csv_path =\"/kaggle/input/driving-log/driving_log.csv\"\n",
    "path_to_replace = \"D:\\\\self driving car\\\\IMG\""
   ]
  },
  {
   "cell_type": "code",
   "execution_count": 1,
   "metadata": {},
   "outputs": [],
   "source": [
    "import pandas as pd"
   ]
  },
  {
   "cell_type": "code",
   "execution_count": 3,
   "metadata": {},
   "outputs": [],
   "source": [
    "data = pd.read_excel(\"New folder\\driving_log.xlsx\")"
   ]
  },
  {
   "cell_type": "code",
   "execution_count": 5,
   "metadata": {},
   "outputs": [
    {
     "data": {
      "text/plain": [
       "center            D:\\self driving car\\IMG\\center_2024_01_28_12_1...\n",
       "left              D:\\self driving car\\IMG\\left_2024_01_28_12_16_...\n",
       "right             D:\\self driving car\\IMG\\right_2024_01_28_12_16...\n",
       "steering_angle                                                  0.0\n",
       "accelerator                                                     0.0\n",
       "brake                                                           0.0\n",
       "speed                                                      0.000006\n",
       "Name: 0, dtype: object"
      ]
     },
     "execution_count": 5,
     "metadata": {},
     "output_type": "execute_result"
    }
   ],
   "source": [
    "data.iloc[0]"
   ]
  },
  {
   "cell_type": "code",
   "execution_count": 8,
   "metadata": {},
   "outputs": [],
   "source": [
    "data['center'] = data['center'].str.replace(r'D:\\\\self driving car\\\\IMG',images_path,regex=True)\n",
    "data['left'] = data['left'].str.replace(r'D:\\\\self driving car\\\\IMG',images_path,regex=True)\n",
    "data['right'] = data['right'].str.replace(r'D:\\\\self driving car\\\\IMG',images_path,regex=True)"
   ]
  },
  {
   "cell_type": "code",
   "execution_count": 9,
   "metadata": {},
   "outputs": [
    {
     "name": "stdout",
     "output_type": "stream",
     "text": [
      "                                                 center  \\\n",
      "0     /kaggle/input/self-driving-dataset/New folder/...   \n",
      "1     /kaggle/input/self-driving-dataset/New folder/...   \n",
      "2     /kaggle/input/self-driving-dataset/New folder/...   \n",
      "3     /kaggle/input/self-driving-dataset/New folder/...   \n",
      "4     /kaggle/input/self-driving-dataset/New folder/...   \n",
      "...                                                 ...   \n",
      "5323  /kaggle/input/self-driving-dataset/New folder/...   \n",
      "5324  /kaggle/input/self-driving-dataset/New folder/...   \n",
      "5325  /kaggle/input/self-driving-dataset/New folder/...   \n",
      "5326  /kaggle/input/self-driving-dataset/New folder/...   \n",
      "5327  /kaggle/input/self-driving-dataset/New folder/...   \n",
      "\n",
      "                                                   left  \\\n",
      "0     /kaggle/input/self-driving-dataset/New folder/...   \n",
      "1     /kaggle/input/self-driving-dataset/New folder/...   \n",
      "2     /kaggle/input/self-driving-dataset/New folder/...   \n",
      "3     /kaggle/input/self-driving-dataset/New folder/...   \n",
      "4     /kaggle/input/self-driving-dataset/New folder/...   \n",
      "...                                                 ...   \n",
      "5323  /kaggle/input/self-driving-dataset/New folder/...   \n",
      "5324  /kaggle/input/self-driving-dataset/New folder/...   \n",
      "5325  /kaggle/input/self-driving-dataset/New folder/...   \n",
      "5326  /kaggle/input/self-driving-dataset/New folder/...   \n",
      "5327  /kaggle/input/self-driving-dataset/New folder/...   \n",
      "\n",
      "                                                  right  steering_angle  \\\n",
      "0     /kaggle/input/self-driving-dataset/New folder/...             0.0   \n",
      "1     /kaggle/input/self-driving-dataset/New folder/...             0.0   \n",
      "2     /kaggle/input/self-driving-dataset/New folder/...             0.0   \n",
      "3     /kaggle/input/self-driving-dataset/New folder/...             0.0   \n",
      "4     /kaggle/input/self-driving-dataset/New folder/...             0.0   \n",
      "...                                                 ...             ...   \n",
      "5323  /kaggle/input/self-driving-dataset/New folder/...             0.0   \n",
      "5324  /kaggle/input/self-driving-dataset/New folder/...             0.0   \n",
      "5325  /kaggle/input/self-driving-dataset/New folder/...             0.0   \n",
      "5326  /kaggle/input/self-driving-dataset/New folder/...             0.0   \n",
      "5327  /kaggle/input/self-driving-dataset/New folder/...             0.0   \n",
      "\n",
      "      accelerator  brake         speed  \n",
      "0        0.000000    0.0  5.886458e-06  \n",
      "1        0.000000    0.0  8.173313e-07  \n",
      "2        0.000000    0.0  8.981438e-06  \n",
      "3        0.000000    0.0  3.430137e-06  \n",
      "4        0.126316    0.0  6.835929e-02  \n",
      "...           ...    ...           ...  \n",
      "5323     1.000000    0.0  3.019032e+01  \n",
      "5324     1.000000    0.0  3.019030e+01  \n",
      "5325     1.000000    0.0  3.019030e+01  \n",
      "5326     1.000000    0.0  3.019029e+01  \n",
      "5327     1.000000    0.0  3.019029e+01  \n",
      "\n",
      "[5328 rows x 7 columns]\n"
     ]
    }
   ],
   "source": [
    "print(data)"
   ]
  },
  {
   "cell_type": "code",
   "execution_count": null,
   "metadata": {},
   "outputs": [],
   "source": []
  }
 ],
 "metadata": {
  "kernelspec": {
   "display_name": "Python 3",
   "language": "python",
   "name": "python3"
  },
  "language_info": {
   "codemirror_mode": {
    "name": "ipython",
    "version": 3
   },
   "file_extension": ".py",
   "mimetype": "text/x-python",
   "name": "python",
   "nbconvert_exporter": "python",
   "pygments_lexer": "ipython3",
   "version": "3.10.9"
  }
 },
 "nbformat": 4,
 "nbformat_minor": 2
}
